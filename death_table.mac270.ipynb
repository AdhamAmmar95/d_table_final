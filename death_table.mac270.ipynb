{
 "cells": [
  {
   "cell_type": "code",
   "execution_count": 350,
   "metadata": {},
   "outputs": [],
   "source": [
    "import pandas as pd\n"
   ]
  },
  {
   "cell_type": "code",
   "execution_count": 351,
   "metadata": {},
   "outputs": [],
   "source": [
    "import matplotlib.pyplot as plt\n"
   ]
  },
  {
   "cell_type": "code",
   "execution_count": 352,
   "metadata": {},
   "outputs": [],
   "source": [
    "death_table = pd.read_csv('New_York_City_Leading_Causes_of_Death (4).csv')\n"
   ]
  },
  {
   "cell_type": "code",
   "execution_count": 353,
   "metadata": {},
   "outputs": [
    {
     "data": {
      "text/html": [
       "<div>\n",
       "<style scoped>\n",
       "    .dataframe tbody tr th:only-of-type {\n",
       "        vertical-align: middle;\n",
       "    }\n",
       "\n",
       "    .dataframe tbody tr th {\n",
       "        vertical-align: top;\n",
       "    }\n",
       "\n",
       "    .dataframe thead th {\n",
       "        text-align: right;\n",
       "    }\n",
       "</style>\n",
       "<table border=\"1\" class=\"dataframe\">\n",
       "  <thead>\n",
       "    <tr style=\"text-align: right;\">\n",
       "      <th></th>\n",
       "      <th>Year</th>\n",
       "      <th>Leading Cause</th>\n",
       "      <th>Sex</th>\n",
       "      <th>Race Ethnicity</th>\n",
       "      <th>Deaths</th>\n",
       "      <th>Death Rate</th>\n",
       "      <th>Age Adjusted Death Rate</th>\n",
       "    </tr>\n",
       "  </thead>\n",
       "  <tbody>\n",
       "    <tr>\n",
       "      <th>0</th>\n",
       "      <td>2014</td>\n",
       "      <td>Diseases of Heart (I00-I09, I11, I13, I20-I51)</td>\n",
       "      <td>Male</td>\n",
       "      <td>Hispanic</td>\n",
       "      <td>1281</td>\n",
       "      <td>107.3</td>\n",
       "      <td>170.5</td>\n",
       "    </tr>\n",
       "    <tr>\n",
       "      <th>1</th>\n",
       "      <td>2014</td>\n",
       "      <td>Malignant Neoplasms (Cancer: C00-C97)</td>\n",
       "      <td>Male</td>\n",
       "      <td>Hispanic</td>\n",
       "      <td>1146</td>\n",
       "      <td>96</td>\n",
       "      <td>143.5</td>\n",
       "    </tr>\n",
       "    <tr>\n",
       "      <th>2</th>\n",
       "      <td>2014</td>\n",
       "      <td>Influenza (Flu) and Pneumonia (J09-J18)</td>\n",
       "      <td>Male</td>\n",
       "      <td>Hispanic</td>\n",
       "      <td>199</td>\n",
       "      <td>16.7</td>\n",
       "      <td>26.6</td>\n",
       "    </tr>\n",
       "    <tr>\n",
       "      <th>3</th>\n",
       "      <td>2014</td>\n",
       "      <td>Mental and Behavioral Disorders due to Acciden...</td>\n",
       "      <td>Male</td>\n",
       "      <td>Hispanic</td>\n",
       "      <td>191</td>\n",
       "      <td>16</td>\n",
       "      <td>16.6</td>\n",
       "    </tr>\n",
       "    <tr>\n",
       "      <th>4</th>\n",
       "      <td>2014</td>\n",
       "      <td>Diabetes Mellitus (E10-E14)</td>\n",
       "      <td>Male</td>\n",
       "      <td>Hispanic</td>\n",
       "      <td>186</td>\n",
       "      <td>15.6</td>\n",
       "      <td>23.2</td>\n",
       "    </tr>\n",
       "  </tbody>\n",
       "</table>\n",
       "</div>"
      ],
      "text/plain": [
       "   Year                                      Leading Cause   Sex  \\\n",
       "0  2014     Diseases of Heart (I00-I09, I11, I13, I20-I51)  Male   \n",
       "1  2014              Malignant Neoplasms (Cancer: C00-C97)  Male   \n",
       "2  2014            Influenza (Flu) and Pneumonia (J09-J18)  Male   \n",
       "3  2014  Mental and Behavioral Disorders due to Acciden...  Male   \n",
       "4  2014                        Diabetes Mellitus (E10-E14)  Male   \n",
       "\n",
       "  Race Ethnicity Deaths Death Rate Age Adjusted Death Rate  \n",
       "0       Hispanic   1281      107.3                   170.5  \n",
       "1       Hispanic   1146         96                   143.5  \n",
       "2       Hispanic    199       16.7                    26.6  \n",
       "3       Hispanic    191         16                    16.6  \n",
       "4       Hispanic    186       15.6                    23.2  "
      ]
     },
     "execution_count": 353,
     "metadata": {},
     "output_type": "execute_result"
    }
   ],
   "source": [
    "death_table.head()"
   ]
  },
  {
   "cell_type": "code",
   "execution_count": 354,
   "metadata": {},
   "outputs": [
    {
     "data": {
      "text/html": [
       "<div>\n",
       "<style scoped>\n",
       "    .dataframe tbody tr th:only-of-type {\n",
       "        vertical-align: middle;\n",
       "    }\n",
       "\n",
       "    .dataframe tbody tr th {\n",
       "        vertical-align: top;\n",
       "    }\n",
       "\n",
       "    .dataframe thead th {\n",
       "        text-align: right;\n",
       "    }\n",
       "</style>\n",
       "<table border=\"1\" class=\"dataframe\">\n",
       "  <thead>\n",
       "    <tr style=\"text-align: right;\">\n",
       "      <th></th>\n",
       "      <th>Year</th>\n",
       "      <th>Leading Cause</th>\n",
       "      <th>Sex</th>\n",
       "      <th>Race Ethnicity</th>\n",
       "      <th>Deaths</th>\n",
       "      <th>Death Rate</th>\n",
       "      <th>Age Adjusted Death Rate</th>\n",
       "    </tr>\n",
       "  </thead>\n",
       "  <tbody>\n",
       "    <tr>\n",
       "      <th>1092</th>\n",
       "      <td>2007</td>\n",
       "      <td>Alzheimer's Disease (G30)</td>\n",
       "      <td>Female</td>\n",
       "      <td>Not Stated/Unknown</td>\n",
       "      <td>.</td>\n",
       "      <td>.</td>\n",
       "      <td>.</td>\n",
       "    </tr>\n",
       "    <tr>\n",
       "      <th>1093</th>\n",
       "      <td>2007</td>\n",
       "      <td>All Other Causes</td>\n",
       "      <td>Female</td>\n",
       "      <td>Not Stated/Unknown</td>\n",
       "      <td>27</td>\n",
       "      <td>.</td>\n",
       "      <td>.</td>\n",
       "    </tr>\n",
       "    <tr>\n",
       "      <th>1094</th>\n",
       "      <td>Data downloaded: 15MAY17:16:08</td>\n",
       "      <td>NaN</td>\n",
       "      <td>NaN</td>\n",
       "      <td>NaN</td>\n",
       "      <td>NaN</td>\n",
       "      <td>NaN</td>\n",
       "      <td>NaN</td>\n",
       "    </tr>\n",
       "    <tr>\n",
       "      <th>1095</th>\n",
       "      <td>Rates based on small numbers (RSE &gt; 30) as wel...</td>\n",
       "      <td>NaN</td>\n",
       "      <td>NaN</td>\n",
       "      <td>NaN</td>\n",
       "      <td>NaN</td>\n",
       "      <td>NaN</td>\n",
       "      <td>NaN</td>\n",
       "    </tr>\n",
       "    <tr>\n",
       "      <th>1096</th>\n",
       "      <td>Source: Bureau of Vital Statistics</td>\n",
       "      <td>New York City Department of Health and Mental ...</td>\n",
       "      <td>NaN</td>\n",
       "      <td>NaN</td>\n",
       "      <td>NaN</td>\n",
       "      <td>NaN</td>\n",
       "      <td>NaN</td>\n",
       "    </tr>\n",
       "  </tbody>\n",
       "</table>\n",
       "</div>"
      ],
      "text/plain": [
       "                                                   Year  \\\n",
       "1092                                               2007   \n",
       "1093                                               2007   \n",
       "1094                     Data downloaded: 15MAY17:16:08   \n",
       "1095  Rates based on small numbers (RSE > 30) as wel...   \n",
       "1096                 Source: Bureau of Vital Statistics   \n",
       "\n",
       "                                          Leading Cause     Sex  \\\n",
       "1092                          Alzheimer's Disease (G30)  Female   \n",
       "1093                                   All Other Causes  Female   \n",
       "1094                                                NaN     NaN   \n",
       "1095                                                NaN     NaN   \n",
       "1096  New York City Department of Health and Mental ...     NaN   \n",
       "\n",
       "          Race Ethnicity Deaths Death Rate Age Adjusted Death Rate  \n",
       "1092  Not Stated/Unknown      .          .                       .  \n",
       "1093  Not Stated/Unknown     27          .                       .  \n",
       "1094                 NaN    NaN        NaN                     NaN  \n",
       "1095                 NaN    NaN        NaN                     NaN  \n",
       "1096                 NaN    NaN        NaN                     NaN  "
      ]
     },
     "execution_count": 354,
     "metadata": {},
     "output_type": "execute_result"
    }
   ],
   "source": [
    "death_table.tail()"
   ]
  },
  {
   "cell_type": "code",
   "execution_count": 355,
   "metadata": {},
   "outputs": [],
   "source": [
    "death_table = death_table.drop([1096,1095,1094],axis=0)"
   ]
  },
  {
   "cell_type": "code",
   "execution_count": 356,
   "metadata": {},
   "outputs": [
    {
     "name": "stdout",
     "output_type": "stream",
     "text": [
      "<class 'pandas.core.frame.DataFrame'>\n",
      "Int64Index: 1094 entries, 0 to 1093\n",
      "Data columns (total 7 columns):\n",
      "Year                       1094 non-null object\n",
      "Leading Cause              1094 non-null object\n",
      "Sex                        1094 non-null object\n",
      "Race Ethnicity             1094 non-null object\n",
      "Deaths                     1094 non-null object\n",
      "Death Rate                 1094 non-null object\n",
      "Age Adjusted Death Rate    1094 non-null object\n",
      "dtypes: object(7)\n",
      "memory usage: 68.4+ KB\n"
     ]
    }
   ],
   "source": [
    "death_table.info()"
   ]
  },
  {
   "cell_type": "code",
   "execution_count": 357,
   "metadata": {},
   "outputs": [],
   "source": [
    "death_table['Year'] = pd.to_numeric(death_table['Year'])"
   ]
  },
  {
   "cell_type": "code",
   "execution_count": 358,
   "metadata": {},
   "outputs": [],
   "source": [
    "death_table['Deaths'] = pd.to_numeric(death_table ['Deaths'].replace(\".\",\"\"))\n"
   ]
  },
  {
   "cell_type": "code",
   "execution_count": 359,
   "metadata": {},
   "outputs": [],
   "source": [
    "death_table['Death Rate'] = pd.to_numeric(death_table ['Death Rate'].replace(\".\",\"\"))"
   ]
  },
  {
   "cell_type": "code",
   "execution_count": 360,
   "metadata": {},
   "outputs": [],
   "source": [
    "death_table['Age Adjusted Death Rate'] = pd.to_numeric(death_table ['Age Adjusted Death Rate'].replace(\".\",\"\"))"
   ]
  },
  {
   "cell_type": "code",
   "execution_count": 361,
   "metadata": {},
   "outputs": [
    {
     "data": {
      "text/plain": [
       "Year                         int64\n",
       "Leading Cause               object\n",
       "Sex                         object\n",
       "Race Ethnicity              object\n",
       "Deaths                     float64\n",
       "Death Rate                 float64\n",
       "Age Adjusted Death Rate    float64\n",
       "dtype: object"
      ]
     },
     "execution_count": 361,
     "metadata": {},
     "output_type": "execute_result"
    }
   ],
   "source": [
    "death_table.dtypes"
   ]
  },
  {
   "cell_type": "code",
   "execution_count": 362,
   "metadata": {},
   "outputs": [],
   "source": [
    "death_table = death_table.dropna() "
   ]
  },
  {
   "cell_type": "code",
   "execution_count": 363,
   "metadata": {},
   "outputs": [
    {
     "data": {
      "text/html": [
       "<div>\n",
       "<style scoped>\n",
       "    .dataframe tbody tr th:only-of-type {\n",
       "        vertical-align: middle;\n",
       "    }\n",
       "\n",
       "    .dataframe tbody tr th {\n",
       "        vertical-align: top;\n",
       "    }\n",
       "\n",
       "    .dataframe thead th {\n",
       "        text-align: right;\n",
       "    }\n",
       "</style>\n",
       "<table border=\"1\" class=\"dataframe\">\n",
       "  <thead>\n",
       "    <tr style=\"text-align: right;\">\n",
       "      <th></th>\n",
       "      <th>Year</th>\n",
       "      <th>Leading Cause</th>\n",
       "      <th>Sex</th>\n",
       "      <th>Race Ethnicity</th>\n",
       "      <th>Deaths</th>\n",
       "      <th>Death Rate</th>\n",
       "      <th>Age Adjusted Death Rate</th>\n",
       "    </tr>\n",
       "  </thead>\n",
       "  <tbody>\n",
       "    <tr>\n",
       "      <th>975</th>\n",
       "      <td>2007</td>\n",
       "      <td>Diseases of Heart (I00-I09, I11, I13, I20-I51)</td>\n",
       "      <td>Male</td>\n",
       "      <td>White Non-Hispanic</td>\n",
       "      <td>5632.0</td>\n",
       "      <td>421.0</td>\n",
       "      <td>350.7</td>\n",
       "    </tr>\n",
       "  </tbody>\n",
       "</table>\n",
       "</div>"
      ],
      "text/plain": [
       "     Year                                   Leading Cause   Sex  \\\n",
       "975  2007  Diseases of Heart (I00-I09, I11, I13, I20-I51)  Male   \n",
       "\n",
       "         Race Ethnicity  Deaths  Death Rate  Age Adjusted Death Rate  \n",
       "975  White Non-Hispanic  5632.0       421.0                    350.7  "
      ]
     },
     "execution_count": 363,
     "metadata": {},
     "output_type": "execute_result"
    }
   ],
   "source": [
    "death_table.sort_values('Age Adjusted Death Rate',ascending=False).head(1)"
   ]
  },
  {
   "cell_type": "code",
   "execution_count": 364,
   "metadata": {},
   "outputs": [
    {
     "data": {
      "text/html": [
       "<div>\n",
       "<style scoped>\n",
       "    .dataframe tbody tr th:only-of-type {\n",
       "        vertical-align: middle;\n",
       "    }\n",
       "\n",
       "    .dataframe tbody tr th {\n",
       "        vertical-align: top;\n",
       "    }\n",
       "\n",
       "    .dataframe thead th {\n",
       "        text-align: right;\n",
       "    }\n",
       "</style>\n",
       "<table border=\"1\" class=\"dataframe\">\n",
       "  <thead>\n",
       "    <tr style=\"text-align: right;\">\n",
       "      <th></th>\n",
       "      <th>Year</th>\n",
       "      <th>Leading Cause</th>\n",
       "      <th>Sex</th>\n",
       "      <th>Race Ethnicity</th>\n",
       "      <th>Deaths</th>\n",
       "      <th>Death Rate</th>\n",
       "      <th>Age Adjusted Death Rate</th>\n",
       "    </tr>\n",
       "  </thead>\n",
       "  <tbody>\n",
       "    <tr>\n",
       "      <th>223</th>\n",
       "      <td>2013</td>\n",
       "      <td>Viral Hepatitis (B15-B19)</td>\n",
       "      <td>Female</td>\n",
       "      <td>Asian and Pacific Islander</td>\n",
       "      <td>15.0</td>\n",
       "      <td>2.5</td>\n",
       "      <td>2.5</td>\n",
       "    </tr>\n",
       "  </tbody>\n",
       "</table>\n",
       "</div>"
      ],
      "text/plain": [
       "     Year              Leading Cause     Sex              Race Ethnicity  \\\n",
       "223  2013  Viral Hepatitis (B15-B19)  Female  Asian and Pacific Islander   \n",
       "\n",
       "     Deaths  Death Rate  Age Adjusted Death Rate  \n",
       "223    15.0         2.5                      2.5  "
      ]
     },
     "execution_count": 364,
     "metadata": {},
     "output_type": "execute_result"
    }
   ],
   "source": [
    "death_table.sort_values('Age Adjusted Death Rate',ascending=False).tail(1)"
   ]
  },
  {
   "cell_type": "code",
   "execution_count": 365,
   "metadata": {},
   "outputs": [
    {
     "data": {
      "text/plain": [
       "<matplotlib.axes._subplots.AxesSubplot at 0x1b5da9bb240>"
      ]
     },
     "execution_count": 365,
     "metadata": {},
     "output_type": "execute_result"
    },
    {
     "data": {
      "image/png": "[encoded data removed]",
      "text/plain": [
       "<Figure size 432x288 with 1 Axes>"
      ]
     },
     "metadata": {
      "needs_background": "light"
     },
     "output_type": "display_data"
    }
   ],
   "source": [
    "death_table['Year'].value_counts().plot.barh()"
   ]
  },
  {
   "cell_type": "code",
   "execution_count": 366,
   "metadata": {},
   "outputs": [
    {
     "data": {
      "text/plain": [
       "<matplotlib.axes._subplots.AxesSubplot at 0x1b5daa0ea20>"
      ]
     },
     "execution_count": 366,
     "metadata": {},
     "output_type": "execute_result"
    },
    {
     "data": {
      "image/png": "[encoded data removed]",
      "text/plain": [
       "<Figure size 432x288 with 1 Axes>"
      ]
     },
     "metadata": {
      "needs_background": "light"
     },
     "output_type": "display_data"
    }
   ],
   "source": [
    "death_table['Leading Cause'].value_counts().plot.barh()"
   ]
  },
  {
   "cell_type": "code",
   "execution_count": 367,
   "metadata": {},
   "outputs": [
    {
     "data": {
      "text/plain": [
       "<matplotlib.axes._subplots.AxesSubplot at 0x1b5d9869320>"
      ]
     },
     "execution_count": 367,
     "metadata": {},
     "output_type": "execute_result"
    },
    {
     "data": {
      "image/png": "[encoded data removed]",
      "text/plain": [
       "<Figure size 432x288 with 1 Axes>"
      ]
     },
     "metadata": {
      "needs_background": "light"
     },
     "output_type": "display_data"
    }
   ],
   "source": [
    "death_table['Sex'].value_counts().plot.barh()"
   ]
  },
  {
   "cell_type": "code",
   "execution_count": 368,
   "metadata": {},
   "outputs": [
    {
     "data": {
      "text/plain": [
       "<matplotlib.axes._subplots.AxesSubplot at 0x1b5daa169b0>"
      ]
     },
     "execution_count": 368,
     "metadata": {},
     "output_type": "execute_result"
    },
    {
     "data": {
      "image/png": "[encoded data removed]",
      "text/plain": [
       "<Figure size 432x288 with 1 Axes>"
      ]
     },
     "metadata": {
      "needs_background": "light"
     },
     "output_type": "display_data"
    }
   ],
   "source": [
    "death_table['Race Ethnicity'].value_counts().plot.barh()"
   ]
  },
  {
   "cell_type": "code",
   "execution_count": null,
   "metadata": {},
   "outputs": [],
   "source": []
  },
  {
   "cell_type": "code",
   "execution_count": 369,
   "metadata": {},
   "outputs": [],
   "source": [
    "males = death_table[death_table['Sex']=='Male']"
   ]
  },
  {
   "cell_type": "code",
   "execution_count": 370,
   "metadata": {},
   "outputs": [
    {
     "data": {
      "text/plain": [
       "<matplotlib.axes._subplots.AxesSubplot at 0x1b5dab91588>"
      ]
     },
     "execution_count": 370,
     "metadata": {},
     "output_type": "execute_result"
    },
    {
     "data": {
      "image/png": "[encoded data removed]",
      "text/plain": [
       "<Figure size 432x288 with 1 Axes>"
      ]
     },
     "metadata": {
      "needs_background": "light"
     },
     "output_type": "display_data"
    }
   ],
   "source": [
    "males['Leading Cause'].value_counts().plot.barh()"
   ]
  },
  {
   "cell_type": "code",
   "execution_count": 371,
   "metadata": {},
   "outputs": [
    {
     "data": {
      "text/html": [
       "<div>\n",
       "<style scoped>\n",
       "    .dataframe tbody tr th:only-of-type {\n",
       "        vertical-align: middle;\n",
       "    }\n",
       "\n",
       "    .dataframe tbody tr th {\n",
       "        vertical-align: top;\n",
       "    }\n",
       "\n",
       "    .dataframe thead th {\n",
       "        text-align: right;\n",
       "    }\n",
       "</style>\n",
       "<table border=\"1\" class=\"dataframe\">\n",
       "  <thead>\n",
       "    <tr style=\"text-align: right;\">\n",
       "      <th></th>\n",
       "      <th>Year</th>\n",
       "      <th>Leading Cause</th>\n",
       "      <th>Sex</th>\n",
       "      <th>Race Ethnicity</th>\n",
       "      <th>Deaths</th>\n",
       "      <th>Death Rate</th>\n",
       "      <th>Age Adjusted Death Rate</th>\n",
       "    </tr>\n",
       "  </thead>\n",
       "  <tbody>\n",
       "    <tr>\n",
       "      <th>975</th>\n",
       "      <td>2007</td>\n",
       "      <td>Diseases of Heart (I00-I09, I11, I13, I20-I51)</td>\n",
       "      <td>Male</td>\n",
       "      <td>White Non-Hispanic</td>\n",
       "      <td>5632.0</td>\n",
       "      <td>421.0</td>\n",
       "      <td>350.7</td>\n",
       "    </tr>\n",
       "  </tbody>\n",
       "</table>\n",
       "</div>"
      ],
      "text/plain": [
       "     Year                                   Leading Cause   Sex  \\\n",
       "975  2007  Diseases of Heart (I00-I09, I11, I13, I20-I51)  Male   \n",
       "\n",
       "         Race Ethnicity  Deaths  Death Rate  Age Adjusted Death Rate  \n",
       "975  White Non-Hispanic  5632.0       421.0                    350.7  "
      ]
     },
     "execution_count": 371,
     "metadata": {},
     "output_type": "execute_result"
    }
   ],
   "source": [
    "males.sort_values('Age Adjusted Death Rate',ascending=False).head(1)"
   ]
  },
  {
   "cell_type": "code",
   "execution_count": 372,
   "metadata": {},
   "outputs": [
    {
     "data": {
      "text/html": [
       "<div>\n",
       "<style scoped>\n",
       "    .dataframe tbody tr th:only-of-type {\n",
       "        vertical-align: middle;\n",
       "    }\n",
       "\n",
       "    .dataframe tbody tr th {\n",
       "        vertical-align: top;\n",
       "    }\n",
       "\n",
       "    .dataframe thead th {\n",
       "        text-align: right;\n",
       "    }\n",
       "</style>\n",
       "<table border=\"1\" class=\"dataframe\">\n",
       "  <thead>\n",
       "    <tr style=\"text-align: right;\">\n",
       "      <th></th>\n",
       "      <th>Year</th>\n",
       "      <th>Leading Cause</th>\n",
       "      <th>Sex</th>\n",
       "      <th>Race Ethnicity</th>\n",
       "      <th>Deaths</th>\n",
       "      <th>Death Rate</th>\n",
       "      <th>Age Adjusted Death Rate</th>\n",
       "    </tr>\n",
       "  </thead>\n",
       "  <tbody>\n",
       "    <tr>\n",
       "      <th>838</th>\n",
       "      <td>2008</td>\n",
       "      <td>Congenital Malformations, Deformations, and Ch...</td>\n",
       "      <td>Male</td>\n",
       "      <td>Asian and Pacific Islander</td>\n",
       "      <td>14.0</td>\n",
       "      <td>2.8</td>\n",
       "      <td>3.0</td>\n",
       "    </tr>\n",
       "  </tbody>\n",
       "</table>\n",
       "</div>"
      ],
      "text/plain": [
       "     Year                                      Leading Cause   Sex  \\\n",
       "838  2008  Congenital Malformations, Deformations, and Ch...  Male   \n",
       "\n",
       "                 Race Ethnicity  Deaths  Death Rate  Age Adjusted Death Rate  \n",
       "838  Asian and Pacific Islander    14.0         2.8                      3.0  "
      ]
     },
     "execution_count": 372,
     "metadata": {},
     "output_type": "execute_result"
    }
   ],
   "source": [
    "males.sort_values('Age Adjusted Death Rate',ascending=False).tail(1)"
   ]
  },
  {
   "cell_type": "code",
   "execution_count": 373,
   "metadata": {},
   "outputs": [
    {
     "data": {
      "text/plain": [
       "63.712146892655376"
      ]
     },
     "execution_count": 373,
     "metadata": {},
     "output_type": "execute_result"
    }
   ],
   "source": [
    "males['Age Adjusted Death Rate'].mean()"
   ]
  },
  {
   "cell_type": "code",
   "execution_count": 374,
   "metadata": {},
   "outputs": [
    {
     "data": {
      "text/plain": [
       "23.0"
      ]
     },
     "execution_count": 374,
     "metadata": {},
     "output_type": "execute_result"
    }
   ],
   "source": [
    "males['Age Adjusted Death Rate'].median()"
   ]
  },
  {
   "cell_type": "code",
   "execution_count": null,
   "metadata": {},
   "outputs": [],
   "source": []
  },
  {
   "cell_type": "code",
   "execution_count": 375,
   "metadata": {},
   "outputs": [],
   "source": [
    "females = death_table[death_table['Sex']=='Female']"
   ]
  },
  {
   "cell_type": "code",
   "execution_count": 376,
   "metadata": {},
   "outputs": [
    {
     "data": {
      "text/plain": [
       "<matplotlib.axes._subplots.AxesSubplot at 0x1b5da996a20>"
      ]
     },
     "execution_count": 376,
     "metadata": {},
     "output_type": "execute_result"
    },
    {
     "data": {
      "image/png": "[encoded data removed]",
      "text/plain": [
       "<Figure size 432x288 with 1 Axes>"
      ]
     },
     "metadata": {
      "needs_background": "light"
     },
     "output_type": "display_data"
    }
   ],
   "source": [
    "females['Leading Cause'].value_counts().plot.barh()"
   ]
  },
  {
   "cell_type": "code",
   "execution_count": 377,
   "metadata": {},
   "outputs": [
    {
     "data": {
      "text/html": [
       "<div>\n",
       "<style scoped>\n",
       "    .dataframe tbody tr th:only-of-type {\n",
       "        vertical-align: middle;\n",
       "    }\n",
       "\n",
       "    .dataframe tbody tr th {\n",
       "        vertical-align: top;\n",
       "    }\n",
       "\n",
       "    .dataframe thead th {\n",
       "        text-align: right;\n",
       "    }\n",
       "</style>\n",
       "<table border=\"1\" class=\"dataframe\">\n",
       "  <thead>\n",
       "    <tr style=\"text-align: right;\">\n",
       "      <th></th>\n",
       "      <th>Year</th>\n",
       "      <th>Leading Cause</th>\n",
       "      <th>Sex</th>\n",
       "      <th>Race Ethnicity</th>\n",
       "      <th>Deaths</th>\n",
       "      <th>Death Rate</th>\n",
       "      <th>Age Adjusted Death Rate</th>\n",
       "    </tr>\n",
       "  </thead>\n",
       "  <tbody>\n",
       "    <tr>\n",
       "      <th>1043</th>\n",
       "      <td>2007</td>\n",
       "      <td>Diseases of Heart (I00-I09, I11, I13, I20-I51)</td>\n",
       "      <td>Female</td>\n",
       "      <td>White Non-Hispanic</td>\n",
       "      <td>7050.0</td>\n",
       "      <td>491.4</td>\n",
       "      <td>250.7</td>\n",
       "    </tr>\n",
       "  </tbody>\n",
       "</table>\n",
       "</div>"
      ],
      "text/plain": [
       "      Year                                   Leading Cause     Sex  \\\n",
       "1043  2007  Diseases of Heart (I00-I09, I11, I13, I20-I51)  Female   \n",
       "\n",
       "          Race Ethnicity  Deaths  Death Rate  Age Adjusted Death Rate  \n",
       "1043  White Non-Hispanic  7050.0       491.4                    250.7  "
      ]
     },
     "execution_count": 377,
     "metadata": {},
     "output_type": "execute_result"
    }
   ],
   "source": [
    "females.sort_values('Age Adjusted Death Rate',ascending=False).head(1)"
   ]
  },
  {
   "cell_type": "code",
   "execution_count": 378,
   "metadata": {},
   "outputs": [
    {
     "data": {
      "text/html": [
       "<div>\n",
       "<style scoped>\n",
       "    .dataframe tbody tr th:only-of-type {\n",
       "        vertical-align: middle;\n",
       "    }\n",
       "\n",
       "    .dataframe tbody tr th {\n",
       "        vertical-align: top;\n",
       "    }\n",
       "\n",
       "    .dataframe thead th {\n",
       "        text-align: right;\n",
       "    }\n",
       "</style>\n",
       "<table border=\"1\" class=\"dataframe\">\n",
       "  <thead>\n",
       "    <tr style=\"text-align: right;\">\n",
       "      <th></th>\n",
       "      <th>Year</th>\n",
       "      <th>Leading Cause</th>\n",
       "      <th>Sex</th>\n",
       "      <th>Race Ethnicity</th>\n",
       "      <th>Deaths</th>\n",
       "      <th>Death Rate</th>\n",
       "      <th>Age Adjusted Death Rate</th>\n",
       "    </tr>\n",
       "  </thead>\n",
       "  <tbody>\n",
       "    <tr>\n",
       "      <th>223</th>\n",
       "      <td>2013</td>\n",
       "      <td>Viral Hepatitis (B15-B19)</td>\n",
       "      <td>Female</td>\n",
       "      <td>Asian and Pacific Islander</td>\n",
       "      <td>15.0</td>\n",
       "      <td>2.5</td>\n",
       "      <td>2.5</td>\n",
       "    </tr>\n",
       "  </tbody>\n",
       "</table>\n",
       "</div>"
      ],
      "text/plain": [
       "     Year              Leading Cause     Sex              Race Ethnicity  \\\n",
       "223  2013  Viral Hepatitis (B15-B19)  Female  Asian and Pacific Islander   \n",
       "\n",
       "     Deaths  Death Rate  Age Adjusted Death Rate  \n",
       "223    15.0         2.5                      2.5  "
      ]
     },
     "execution_count": 378,
     "metadata": {},
     "output_type": "execute_result"
    }
   ],
   "source": [
    "females.sort_values('Age Adjusted Death Rate',ascending=False).tail(1)"
   ]
  },
  {
   "cell_type": "code",
   "execution_count": 379,
   "metadata": {},
   "outputs": [
    {
     "data": {
      "text/plain": [
       "43.21242937853106"
      ]
     },
     "execution_count": 379,
     "metadata": {},
     "output_type": "execute_result"
    }
   ],
   "source": [
    "females['Age Adjusted Death Rate'].mean()"
   ]
  },
  {
   "cell_type": "code",
   "execution_count": 380,
   "metadata": {},
   "outputs": [
    {
     "data": {
      "text/plain": [
       "17.200000000000003"
      ]
     },
     "execution_count": 380,
     "metadata": {},
     "output_type": "execute_result"
    }
   ],
   "source": [
    "females['Age Adjusted Death Rate'].median()"
   ]
  },
  {
   "cell_type": "code",
   "execution_count": null,
   "metadata": {},
   "outputs": [],
   "source": []
  },
  {
   "cell_type": "code",
   "execution_count": 381,
   "metadata": {},
   "outputs": [],
   "source": [
    "males_2014 = males[males['Year']==2014]"
   ]
  },
  {
   "cell_type": "code",
   "execution_count": 382,
   "metadata": {},
   "outputs": [],
   "source": [
    "females_2014 = females[females['Year']==2014]"
   ]
  },
  {
   "cell_type": "code",
   "execution_count": null,
   "metadata": {},
   "outputs": [],
   "source": []
  },
  {
   "cell_type": "code",
   "execution_count": 383,
   "metadata": {},
   "outputs": [],
   "source": [
    "hispanics = death_table[death_table['Race Ethnicity']=='Hispanic']"
   ]
  },
  {
   "cell_type": "code",
   "execution_count": 384,
   "metadata": {},
   "outputs": [],
   "source": [
    "hispanic_males = hispanics[hispanics['Sex']=='Male']"
   ]
  },
  {
   "cell_type": "code",
   "execution_count": 385,
   "metadata": {},
   "outputs": [],
   "source": [
    "hispanic_females = hispanics[hispanics['Sex']=='Female']"
   ]
  },
  {
   "cell_type": "code",
   "execution_count": 386,
   "metadata": {},
   "outputs": [],
   "source": [
    "black_non_hispanics = death_table[death_table['Race Ethnicity']=='Black Non-Hispanic']"
   ]
  },
  {
   "cell_type": "code",
   "execution_count": 387,
   "metadata": {},
   "outputs": [],
   "source": [
    "black_non_hispanic_males = black_non_hispanics[black_non_hispanics['Sex']=='Male']"
   ]
  },
  {
   "cell_type": "code",
   "execution_count": 388,
   "metadata": {},
   "outputs": [],
   "source": [
    "black_non_hispanic_females = black_non_hispanics[black_non_hispanics['Sex']=='Female']"
   ]
  },
  {
   "cell_type": "code",
   "execution_count": 389,
   "metadata": {},
   "outputs": [],
   "source": [
    "asian_and_pacific_islanders = death_table[death_table['Race Ethnicity']=='Asian and Pacific Islander']"
   ]
  },
  {
   "cell_type": "code",
   "execution_count": 390,
   "metadata": {},
   "outputs": [],
   "source": [
    "asian_and_pacific_islander_males =  asian_and_pacific_islanders[asian_and_pacific_islanders['Sex']=='Male']"
   ]
  },
  {
   "cell_type": "code",
   "execution_count": 391,
   "metadata": {},
   "outputs": [],
   "source": [
    "asian_and_pacific_islander_females =  asian_and_pacific_islander[asian_and_pacific_islanders['Sex']=='Female']"
   ]
  },
  {
   "cell_type": "code",
   "execution_count": 392,
   "metadata": {},
   "outputs": [],
   "source": [
    "white_non_hispanics = death_table[death_table['Race Ethnicity']=='White Non-Hispanic']"
   ]
  },
  {
   "cell_type": "code",
   "execution_count": 393,
   "metadata": {},
   "outputs": [],
   "source": [
    "white_non_hispanic_males = white_non_hispanics[white_non_hispanics['Sex']=='Male']"
   ]
  },
  {
   "cell_type": "code",
   "execution_count": 394,
   "metadata": {},
   "outputs": [],
   "source": [
    "white_non_hispanic_females = white_non_hispanics[white_non_hispanics['Sex']=='Female']"
   ]
  },
  {
   "cell_type": "code",
   "execution_count": null,
   "metadata": {},
   "outputs": [],
   "source": []
  },
  {
   "cell_type": "code",
   "execution_count": 395,
   "metadata": {},
   "outputs": [
    {
     "data": {
      "text/html": [
       "<div>\n",
       "<style scoped>\n",
       "    .dataframe tbody tr th:only-of-type {\n",
       "        vertical-align: middle;\n",
       "    }\n",
       "\n",
       "    .dataframe tbody tr th {\n",
       "        vertical-align: top;\n",
       "    }\n",
       "\n",
       "    .dataframe thead th {\n",
       "        text-align: right;\n",
       "    }\n",
       "</style>\n",
       "<table border=\"1\" class=\"dataframe\">\n",
       "  <thead>\n",
       "    <tr style=\"text-align: right;\">\n",
       "      <th></th>\n",
       "      <th>Year</th>\n",
       "      <th>Leading Cause</th>\n",
       "      <th>Sex</th>\n",
       "      <th>Race Ethnicity</th>\n",
       "      <th>Deaths</th>\n",
       "      <th>Death Rate</th>\n",
       "      <th>Age Adjusted Death Rate</th>\n",
       "    </tr>\n",
       "  </thead>\n",
       "  <tbody>\n",
       "    <tr>\n",
       "      <th>1021</th>\n",
       "      <td>2007</td>\n",
       "      <td>Diseases of Heart (I00-I09, I11, I13, I20-I51)</td>\n",
       "      <td>Female</td>\n",
       "      <td>Hispanic</td>\n",
       "      <td>1418.0</td>\n",
       "      <td>121.5</td>\n",
       "      <td>164.3</td>\n",
       "    </tr>\n",
       "  </tbody>\n",
       "</table>\n",
       "</div>"
      ],
      "text/plain": [
       "      Year                                   Leading Cause     Sex  \\\n",
       "1021  2007  Diseases of Heart (I00-I09, I11, I13, I20-I51)  Female   \n",
       "\n",
       "     Race Ethnicity  Deaths  Death Rate  Age Adjusted Death Rate  \n",
       "1021       Hispanic  1418.0       121.5                    164.3  "
      ]
     },
     "execution_count": 395,
     "metadata": {},
     "output_type": "execute_result"
    }
   ],
   "source": [
    "hispanic_females.sort_values('Age Adjusted Death Rate',ascending=False).head(1)\n"
   ]
  },
  {
   "cell_type": "code",
   "execution_count": 396,
   "metadata": {},
   "outputs": [
    {
     "data": {
      "text/html": [
       "<div>\n",
       "<style scoped>\n",
       "    .dataframe tbody tr th:only-of-type {\n",
       "        vertical-align: middle;\n",
       "    }\n",
       "\n",
       "    .dataframe tbody tr th {\n",
       "        vertical-align: top;\n",
       "    }\n",
       "\n",
       "    .dataframe thead th {\n",
       "        text-align: right;\n",
       "    }\n",
       "</style>\n",
       "<table border=\"1\" class=\"dataframe\">\n",
       "  <thead>\n",
       "    <tr style=\"text-align: right;\">\n",
       "      <th></th>\n",
       "      <th>Year</th>\n",
       "      <th>Leading Cause</th>\n",
       "      <th>Sex</th>\n",
       "      <th>Race Ethnicity</th>\n",
       "      <th>Deaths</th>\n",
       "      <th>Death Rate</th>\n",
       "      <th>Age Adjusted Death Rate</th>\n",
       "    </tr>\n",
       "  </thead>\n",
       "  <tbody>\n",
       "    <tr>\n",
       "      <th>481</th>\n",
       "      <td>2011</td>\n",
       "      <td>Mental and Behavioral Disorders due to Acciden...</td>\n",
       "      <td>Female</td>\n",
       "      <td>Hispanic</td>\n",
       "      <td>56.0</td>\n",
       "      <td>4.6</td>\n",
       "      <td>4.5</td>\n",
       "    </tr>\n",
       "  </tbody>\n",
       "</table>\n",
       "</div>"
      ],
      "text/plain": [
       "     Year                                      Leading Cause     Sex  \\\n",
       "481  2011  Mental and Behavioral Disorders due to Acciden...  Female   \n",
       "\n",
       "    Race Ethnicity  Deaths  Death Rate  Age Adjusted Death Rate  \n",
       "481       Hispanic    56.0         4.6                      4.5  "
      ]
     },
     "execution_count": 396,
     "metadata": {},
     "output_type": "execute_result"
    }
   ],
   "source": [
    "hispanic_females.sort_values('Age Adjusted Death Rate',ascending=False).tail(1)"
   ]
  },
  {
   "cell_type": "code",
   "execution_count": 397,
   "metadata": {},
   "outputs": [
    {
     "data": {
      "text/plain": [
       "38.85168539325842"
      ]
     },
     "execution_count": 397,
     "metadata": {},
     "output_type": "execute_result"
    }
   ],
   "source": [
    "hispanic_females['Age Adjusted Death Rate'].mean()"
   ]
  },
  {
   "cell_type": "code",
   "execution_count": 398,
   "metadata": {},
   "outputs": [
    {
     "data": {
      "text/plain": [
       "16.8"
      ]
     },
     "execution_count": 398,
     "metadata": {},
     "output_type": "execute_result"
    }
   ],
   "source": [
    "hispanic_females['Age Adjusted Death Rate'].median()"
   ]
  },
  {
   "cell_type": "code",
   "execution_count": 399,
   "metadata": {},
   "outputs": [
    {
     "data": {
      "text/plain": [
       "<matplotlib.axes._subplots.AxesSubplot at 0x1b5dac346d8>"
      ]
     },
     "execution_count": 399,
     "metadata": {},
     "output_type": "execute_result"
    },
    {
     "data": {
      "image/png": "[encoded data removed]",
      "text/plain": [
       "<Figure size 432x288 with 1 Axes>"
      ]
     },
     "metadata": {
      "needs_background": "light"
     },
     "output_type": "display_data"
    }
   ],
   "source": [
    "hispanic_females['Leading Cause'].value_counts().plot.barh()"
   ]
  },
  {
   "cell_type": "code",
   "execution_count": null,
   "metadata": {},
   "outputs": [],
   "source": []
  },
  {
   "cell_type": "code",
   "execution_count": null,
   "metadata": {},
   "outputs": [],
   "source": []
  },
  {
   "cell_type": "code",
   "execution_count": null,
   "metadata": {},
   "outputs": [],
   "source": []
  },
  {
   "cell_type": "code",
   "execution_count": null,
   "metadata": {},
   "outputs": [],
   "source": []
  }
 ],
 "metadata": {
  "kernelspec": {
   "display_name": "Python 3",
   "language": "python",
   "name": "python3"
  },
  "language_info": {
   "codemirror_mode": {
    "name": "ipython",
    "version": 3
   },
   "file_extension": ".py",
   "mimetype": "text/x-python",
   "name": "python",
   "nbconvert_exporter": "python",
   "pygments_lexer": "ipython3",
   "version": "3.7.3"
  }
 },
 "nbformat": 4,
 "nbformat_minor": 2
}
